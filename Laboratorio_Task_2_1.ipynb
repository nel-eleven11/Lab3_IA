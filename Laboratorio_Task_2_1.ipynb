{
 "cells": [
  {
   "cell_type": "markdown",
   "metadata": {},
   "source": [
    "# Task 2.1 - Gradiente Descendiente Estocástico\n",
    "\n",
    "Implemente el descenso de gradiente estocástico, el descenso de gradiente y el descenso de gradiente por mini\n",
    "batches para una función polinómica de grado 3. Luego, grafique la función aproximada por cada uno de los métodos\n",
    "solicitados y la distribución real de puntos."
   ]
  },
  {
   "cell_type": "code",
   "execution_count": null,
   "metadata": {
    "vscode": {
     "languageId": "plaintext"
    }
   },
   "outputs": [],
   "source": [
    "import numpy as np\n",
    "import matplotlib.pyplot as plt"
   ]
  }
 ],
 "metadata": {
  "language_info": {
   "name": "python"
  }
 },
 "nbformat": 4,
 "nbformat_minor": 2
}
