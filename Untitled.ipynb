{
 "cells": [
  {
   "cell_type": "code",
   "execution_count": 2,
   "id": "5f7d5121-9b21-4f08-bdc6-e979965d487d",
   "metadata": {},
   "outputs": [],
   "source": [
    "import pandas as pd\n",
    "from sklearn.model_selection import train_test_split\n",
    "from sklearn.svm import SVC\n",
    "from sklearn.metrics import accuracy_score, f1_score\n",
    "\n",
    "df = pd.read_csv(\"high_diamond_ranked_10min.csv\")"
   ]
  },
  {
   "cell_type": "code",
   "execution_count": 3,
   "id": "b21e4bb4-4706-4292-89d7-692c39ac9cfe",
   "metadata": {},
   "outputs": [],
   "source": [
    "X = df.drop(columns=[\"blueWins\"])  # Características\n",
    "y = df[\"blueWins\"]  # Variable objetivo"
   ]
  },
  {
   "cell_type": "code",
   "execution_count": 4,
   "id": "b4ca0f48-46b0-4f91-abe3-6169caa67500",
   "metadata": {},
   "outputs": [
    {
     "name": "stdout",
     "output_type": "stream",
     "text": [
      "Características seleccionadas según correlación:\n",
      "['blueWins', 'blueGoldDiff', 'redGoldDiff', 'redExperienceDiff', 'blueExperienceDiff', 'blueTotalGold', 'blueGoldPerMin', 'redTotalGold', 'redGoldPerMin', 'blueTotalExperience', 'redTotalExperience', 'blueAvgLevel', 'redAvgLevel', 'redKills', 'blueDeaths', 'blueKills', 'redDeaths', 'blueAssists', 'redAssists', 'blueCSPerMin', 'blueTotalMinionsKilled', 'blueEliteMonsters', 'redEliteMonsters', 'blueDragons', 'redTotalMinionsKilled', 'redCSPerMin', 'redDragons', 'blueFirstBlood', 'redFirstBlood', 'blueTotalJungleMinionsKilled', 'blueTowersDestroyed', 'redTotalJungleMinionsKilled', 'redTowersDestroyed']\n"
     ]
    }
   ],
   "source": [
    "correlation = df.corr()[\"blueWins\"].abs().sort_values(ascending=False)\n",
    "selected_features_corr = correlation[correlation > 0.1].index.tolist()\n",
    "print(\"Características seleccionadas según correlación:\")\n",
    "print(selected_features_corr)"
   ]
  },
  {
   "cell_type": "code",
   "execution_count": 5,
   "id": "f7fe911f-a202-4af6-8181-a1c0c8d6ca78",
   "metadata": {},
   "outputs": [],
   "source": [
    "X_train, X_test, y_train, y_test = train_test_split(X, y, test_size=0.2, random_state=42)"
   ]
  },
  {
   "cell_type": "code",
   "execution_count": null,
   "id": "777abc9b-07e4-46cb-ade8-f53a6ee463a8",
   "metadata": {},
   "outputs": [],
   "source": [
    "selected_features = [\"redGoldDiff\", \"blueGoldDiff\", \"redExperienceDiff\"]\n",
    "\n",
    "svm = SVC(kernel=\"linear\")\n",
    "svm.fit(X_train[selected_features], y_train)  # Usa las características seleccionadas\n",
    "y_pred = svm.predict(X_test[selected_features])"
   ]
  },
  {
   "cell_type": "code",
   "execution_count": null,
   "id": "442edfea-4776-4cd6-b17a-73b2e88b26b3",
   "metadata": {},
   "outputs": [],
   "source": [
    "accuracy = accuracy_score(y_test, y_pred)\n",
    "f1 = f1_score(y_test, y_pred)\n",
    "print(f\"Accuracy: {accuracy}, F1-Score: {f1}\")"
   ]
  }
 ],
 "metadata": {
  "kernelspec": {
   "display_name": "Python 3 (ipykernel)",
   "language": "python",
   "name": "python3"
  },
  "language_info": {
   "codemirror_mode": {
    "name": "ipython",
    "version": 3
   },
   "file_extension": ".py",
   "mimetype": "text/x-python",
   "name": "python",
   "nbconvert_exporter": "python",
   "pygments_lexer": "ipython3",
   "version": "3.13.1"
  }
 },
 "nbformat": 4,
 "nbformat_minor": 5
}
