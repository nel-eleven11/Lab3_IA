{
  "cells": [
    {
      "cell_type": "markdown",
      "metadata": {
        "id": "g8URYrf4Hf2A"
      },
      "source": [
        "# **Respuestas del task 2.3**\n",
        "\n",
        "Para este ejercicio hay 2 archivos distintos. El primero es el archivo task2_3.py y el otro es task2_3_fix.py. En ambos archivos se decidió usar la función de classification_report de la librería sklearn.etricas, para utilizar las métricas de precision, recall y f1-score, los estándares para evaluar la efectividad de un modelo. Podemos usar el recall ya que, aunque no lo solicitara el ejercicio se balancearon los datos y se hizo la partición de 80% training y 20% testing. \n",
        "\n",
        "El primer archivo mencionado es un archivo de prueba, donde quisimos experimentar que pasaría con un perceptrón al cuál se le dan 2 features y no se modifica la columna objetivo.\n",
        "\n",
        "Los resultados tienen bastantes problemas, tanto en las métricas como en la gráfica (task2_3.py). Esto se debe principalmente a que la columna objetivo de clasificación tienen más de 2 valores. El dataset tiene 3 tipos de flores: setosa, versicolor y virginica. Esto supone un gran problema, ya que un preceptrón es un clasificador binario, pero con el dataset intentamos clasificar los registros entre 3 clases distintas. Por eso es que hay 3 tipos de puntos distintos en la gráfica y 3 clases en las métricas (0, 1, y 2). La clase 2 tiene un 0 en todas las métricas, ya que el perceptrón de una sola capa no está diseñado para clasificaciones multiclase, por lo que no se pudo clasificar correctamente nada de la tercera clase. \n",
        "\n",
        "Es por eso que tenemos un archivo extra donde realizamos correctamente la selección de la columna objetivo y limitamos para que solo sean 2 clases en las cuales se vaya a clasificar la información. Estos fueron los resultados del archivo task_2_3_fix.py, donde se filtra para utilizar únicamente 2 clases.\n",
        "\n"
      ]
    },
    {
      "cell_type": "code",
      "execution_count": 1,
      "metadata": {},
      "outputs": [],
      "source": [
        "from sklearn.datasets import load_iris\n",
        "from sklearn.model_selection import train_test_split\n",
        "from sklearn.linear_model import Perceptron\n",
        "from sklearn.metrics import classification_report\n",
        "import numpy as np\n",
        "import matplotlib.pyplot as plt"
      ]
    },
    {
      "cell_type": "code",
      "execution_count": null,
      "metadata": {},
      "outputs": [],
      "source": [
        "iris = load_iris()"
      ]
    },
    {
      "cell_type": "code",
      "execution_count": null,
      "metadata": {},
      "outputs": [],
      "source": [
        "X_selected = iris.data[:, [0, 1]]  # seleccionar columnas especificas\n",
        "y = iris.target\n",
        "\n",
        "# Filtrar para usar solo 2 clases\n",
        "X_filtered = X_selected[y != 2]\n",
        "y_filtered = y[y != 2]"
      ]
    },
    {
      "cell_type": "code",
      "execution_count": null,
      "metadata": {},
      "outputs": [],
      "source": [
        "trainingX, testX, trainY, testY = train_test_split(X_filtered, y_filtered, test_size=0.2, random_state=42)"
      ]
    },
    {
      "cell_type": "code",
      "execution_count": null,
      "metadata": {},
      "outputs": [],
      "source": [
        "perceptron = Perceptron(max_iter=1000, eta0=0.1, random_state=42)\n",
        "perceptron.fit(trainingX, trainY)\n",
        "\n",
        "predictions = perceptron.predict(testX)\n",
        "results = classification_report(testY, predictions)\n",
        "print(results)"
      ]
    },
    {
      "cell_type": "code",
      "execution_count": null,
      "metadata": {},
      "outputs": [],
      "source": [
        "x_min, x_max = trainingX[:, 0].min() - 1, trainingX[:, 0].max() + 1\n",
        "y_min, y_max = trainingX[:, 1].min() - 1, trainingX[:, 1].max() + 1\n",
        "xx, yy = np.meshgrid(np.arange(x_min, x_max, 0.01),\n",
        "                np.arange(y_min, y_max, 0.01))\n",
        "\n",
        "Z = perceptron.predict(np.c_[xx.ravel(), yy.ravel()])\n",
        "Z = Z.reshape(xx.shape)\n",
        "\n",
        "# grafica\n",
        "plt.contourf(xx, yy, Z, alpha=0.8, cmap=plt.cm.Paired)\n",
        "plt.scatter(trainingX[:, 0], trainingX[:, 1], c=trainY, edgecolors='k', marker='o', cmap=plt.cm.Paired)\n",
        "plt.xlabel('Sepal Length (cm)')\n",
        "plt.ylabel('Sepal Width (cm)')\n",
        "plt.title('Perceptron Decision Boundary')\n",
        "plt.show()"
      ]
    }
  ],
  "metadata": {
    "colab": {
      "provenance": []
    },
    "kernelspec": {
      "display_name": "Python 3",
      "name": "python3"
    },
    "language_info": {
      "codemirror_mode": {
        "name": "ipython",
        "version": 3
      },
      "file_extension": ".py",
      "mimetype": "text/x-python",
      "name": "python",
      "nbconvert_exporter": "python",
      "pygments_lexer": "ipython3",
      "version": "3.12.2"
    }
  },
  "nbformat": 4,
  "nbformat_minor": 0
}
